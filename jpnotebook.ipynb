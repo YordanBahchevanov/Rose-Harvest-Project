{
 "cells": [
  {
   "cell_type": "markdown",
   "source": [
    "# Pandas Tutorial"
   ],
   "metadata": {
    "collapsed": false
   },
   "id": "3642bf6cc890988c"
  },
  {
   "cell_type": "code",
   "execution_count": 1,
   "outputs": [
    {
     "data": {
      "text/plain": "           name  id      date      day  quantity_kg  sacks\n0        Tsanko   1  12-05-25   Monday         98.9      9\n1   Ivan Petrov   2  12-05-25   Monday         20.0      2\n2          Ceca   3  12-05-25   Monday         11.7      1\n3        Zlatko   4  12-05-25   Monday         78.8      6\n4        Tsanko   1  13-05-25  Tuesday         46.7      4\n..          ...  ..       ...      ...          ...    ...\n86         Ceca   3  25-05-25   Sunday         38.2      4\n87       Zlatko   4  25-05-25   Sunday        117.6      9\n88        Botio   6  25-05-25   Sunday         53.0      4\n89        Angel   8  25-05-25   Sunday        133.6     12\n90  Ivan Vurben   9  25-05-25   Sunday         46.6      3\n\n[91 rows x 6 columns]",
      "text/html": "<div>\n<style scoped>\n    .dataframe tbody tr th:only-of-type {\n        vertical-align: middle;\n    }\n\n    .dataframe tbody tr th {\n        vertical-align: top;\n    }\n\n    .dataframe thead th {\n        text-align: right;\n    }\n</style>\n<table border=\"1\" class=\"dataframe\">\n  <thead>\n    <tr style=\"text-align: right;\">\n      <th></th>\n      <th>name</th>\n      <th>id</th>\n      <th>date</th>\n      <th>day</th>\n      <th>quantity_kg</th>\n      <th>sacks</th>\n    </tr>\n  </thead>\n  <tbody>\n    <tr>\n      <th>0</th>\n      <td>Tsanko</td>\n      <td>1</td>\n      <td>12-05-25</td>\n      <td>Monday</td>\n      <td>98.9</td>\n      <td>9</td>\n    </tr>\n    <tr>\n      <th>1</th>\n      <td>Ivan Petrov</td>\n      <td>2</td>\n      <td>12-05-25</td>\n      <td>Monday</td>\n      <td>20.0</td>\n      <td>2</td>\n    </tr>\n    <tr>\n      <th>2</th>\n      <td>Ceca</td>\n      <td>3</td>\n      <td>12-05-25</td>\n      <td>Monday</td>\n      <td>11.7</td>\n      <td>1</td>\n    </tr>\n    <tr>\n      <th>3</th>\n      <td>Zlatko</td>\n      <td>4</td>\n      <td>12-05-25</td>\n      <td>Monday</td>\n      <td>78.8</td>\n      <td>6</td>\n    </tr>\n    <tr>\n      <th>4</th>\n      <td>Tsanko</td>\n      <td>1</td>\n      <td>13-05-25</td>\n      <td>Tuesday</td>\n      <td>46.7</td>\n      <td>4</td>\n    </tr>\n    <tr>\n      <th>...</th>\n      <td>...</td>\n      <td>...</td>\n      <td>...</td>\n      <td>...</td>\n      <td>...</td>\n      <td>...</td>\n    </tr>\n    <tr>\n      <th>86</th>\n      <td>Ceca</td>\n      <td>3</td>\n      <td>25-05-25</td>\n      <td>Sunday</td>\n      <td>38.2</td>\n      <td>4</td>\n    </tr>\n    <tr>\n      <th>87</th>\n      <td>Zlatko</td>\n      <td>4</td>\n      <td>25-05-25</td>\n      <td>Sunday</td>\n      <td>117.6</td>\n      <td>9</td>\n    </tr>\n    <tr>\n      <th>88</th>\n      <td>Botio</td>\n      <td>6</td>\n      <td>25-05-25</td>\n      <td>Sunday</td>\n      <td>53.0</td>\n      <td>4</td>\n    </tr>\n    <tr>\n      <th>89</th>\n      <td>Angel</td>\n      <td>8</td>\n      <td>25-05-25</td>\n      <td>Sunday</td>\n      <td>133.6</td>\n      <td>12</td>\n    </tr>\n    <tr>\n      <th>90</th>\n      <td>Ivan Vurben</td>\n      <td>9</td>\n      <td>25-05-25</td>\n      <td>Sunday</td>\n      <td>46.6</td>\n      <td>3</td>\n    </tr>\n  </tbody>\n</table>\n<p>91 rows × 6 columns</p>\n</div>"
     },
     "execution_count": 1,
     "metadata": {},
     "output_type": "execute_result"
    }
   ],
   "source": [
    "import pandas as pd\n",
    "\n",
    "roses = pd.read_csv('./rose_harvest.csv')\n",
    "\n",
    "roses"
   ],
   "metadata": {
    "collapsed": false,
    "ExecuteTime": {
     "end_time": "2025-05-27T08:40:31.670483100Z",
     "start_time": "2025-05-27T08:40:31.252056400Z"
    }
   },
   "id": "513bb75420cec756"
  },
  {
   "cell_type": "code",
   "execution_count": null,
   "outputs": [],
   "source": [],
   "metadata": {
    "collapsed": false
   },
   "id": "f7bb9057557bdff5"
  }
 ],
 "metadata": {
  "kernelspec": {
   "display_name": "Python 3",
   "language": "python",
   "name": "python3"
  },
  "language_info": {
   "codemirror_mode": {
    "name": "ipython",
    "version": 2
   },
   "file_extension": ".py",
   "mimetype": "text/x-python",
   "name": "python",
   "nbconvert_exporter": "python",
   "pygments_lexer": "ipython2",
   "version": "2.7.6"
  }
 },
 "nbformat": 4,
 "nbformat_minor": 5
}
